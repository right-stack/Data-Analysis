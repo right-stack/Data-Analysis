{
 "cells": [
  {
   "cell_type": "markdown",
   "metadata": {},
   "source": [
    "## Load Data from CSVs"
   ]
  },
  {
   "cell_type": "code",
   "execution_count": 57,
   "metadata": {},
   "outputs": [],
   "source": [
    "import unicodecsv\n",
    "\n",
    "## Longer version of code (replaced with shorter, equivalent version below)\n",
    "\n",
    "# enrollments = []\n",
    "# f = open('enrollments.csv', 'rb')\n",
    "# reader = unicodecsv.DictReader(f)\n",
    "# for row in reader:\n",
    "#     enrollments.append(row)\n",
    "# f.close()\n",
    "\n",
    "with open('data/enrollments.csv', 'rb') as f:\n",
    "    reader = unicodecsv.DictReader(f)\n",
    "    enrollments = list(reader)"
   ]
  },
  {
   "cell_type": "code",
   "execution_count": 58,
   "metadata": {
    "scrolled": true
   },
   "outputs": [
    {
     "name": "stdout",
     "output_type": "stream",
     "text": [
      "Variable                         Type              Data/Info\n",
      "------------------------------------------------------------\n",
      "account_key                      str               1305\n",
      "count                            int               3\n",
      "daily_eng                        DictReader        <unicodecsv.py3.DictReade<...>object at 0x7faed9e1de50>\n",
      "daily_engagement                 list              n=136240\n",
      "dt                               type              <class 'datetime.datetime'>\n",
      "e                                BufferedReader    <_io.BufferedReader name=<...>ta/daily_engagement.csv'>\n",
      "engagement_filename              str               data/daily_engagement.csv\n",
      "engagement_num_rows              int               136240\n",
      "engagement_num_unique_students   int               1237\n",
      "engagement_record                dict              n=6\n",
      "engagement_record_date           datetime          2015-06-18 00:00:00\n",
      "enrollment                       dict              n=7\n",
      "enrollment_date                  datetime          2015-08-23 00:00:00\n",
      "enrollment_num_rows              int               1640\n",
      "enrollment_num_unique_students   int               1302\n",
      "enrollments                      list              n=1640\n",
      "f                                BufferedReader    <_io.BufferedReader name='data/enrollments.csv'>\n",
      "i                                int               136239\n",
      "join_date                        datetime          2015-05-12 00:00:00\n",
      "len_engagement                   int               136240\n",
      "non_udacity_engagement           list              n=135656\n",
      "non_udacity_enrollments          list              n=1622\n",
      "non_udacity_submissions          list              n=3634\n",
      "paid_engagement                  list              n=134549\n",
      "paid_engagement_in_first_week    list              n=17210\n",
      "paid_enrollments                 list              n=1293\n",
      "paid_students                    dict              n=995\n",
      "paid_submissions                 list              n=3618\n",
      "parse_date                       function          <function parse_date at 0x7faed9e27c10>\n",
      "parse_maybe_int                  function          <function parse_maybe_int at 0x7faed9e27e50>\n",
      "project_submissions              list              n=3642\n",
      "reader                           DictReader        <unicodecsv.py3.DictReade<...>object at 0x7faed9dd75e0>\n",
      "remove_free_trials_cancels       function          <function remove_free_tri<...>ancels at 0x7faed9e1aca0>\n",
      "remove_udacity_accounts          function          <function remove_udacity_<...>counts at 0x7faed9e1a4c0>\n",
      "s                                BufferedReader    <_io.BufferedReader name=<...>project_submissions.csv'>\n",
      "student                          str               686\n",
      "submission                       dict              n=6\n",
      "submission_num_rows              int               3642\n",
      "submission_num_unique_students   int               743\n",
      "submissions_filename             str               data/project_submissions.csv\n",
      "udacity_test_accounts            set               {'1101', '448', '312', '1304', '818', '1069'}\n",
      "unicodecsv                       module            <module 'unicodecsv' from<...>/unicodecsv/__init__.py'>\n",
      "unique_engagement                set               {'1028', '478', '738', '3<...>4', '854', '1164', '231'}\n",
      "unique_enrollment                set               {'1028', '738', '478', '1<...>4', '472', '1164', '231'}\n",
      "unique_rows                      function          <function unique_rows at 0x7faef239e820>\n",
      "within_one_week                  function          <function within_one_week at 0x7faef7dda040>\n"
     ]
    }
   ],
   "source": [
    "%whos"
   ]
  },
  {
   "cell_type": "code",
   "execution_count": 59,
   "metadata": {},
   "outputs": [
    {
     "name": "stdout",
     "output_type": "stream",
     "text": [
      "{'acct': '0', 'utc_date': '2015-01-09', 'num_courses_visited': '1.0', 'total_minutes_visited': '11.6793745', 'lessons_completed': '0.0', 'projects_completed': '0.0'}\n",
      "\n",
      "{'creation_date': '2015-01-14', 'completion_date': '2015-01-16', 'assigned_rating': 'UNGRADED', 'account_key': '256', 'lesson_key': '3176718735', 'processing_state': 'EVALUATED'}\n",
      "\n",
      "{'account_key': '448', 'status': 'canceled', 'join_date': '2014-11-10', 'cancel_date': '2015-01-14', 'days_to_cancel': '65', 'is_udacity': 'True', 'is_canceled': 'True'}\n"
     ]
    }
   ],
   "source": [
    "## Read in the data from daily_engagement.csv and project_submissions.csv \n",
    "## and store the results in the below variables.\n",
    "## Then look at the first row of each table.\n",
    "\n",
    "engagement_filename = 'data/daily_engagement.csv'\n",
    "submissions_filename = 'data/project_submissions.csv'\n",
    "\n",
    "with open(engagement_filename, 'rb') as e:\n",
    "    daily_eng = unicodecsv.DictReader(e)\n",
    "    daily_engagement = list(daily_eng)     # Replace this with your code\n",
    "    \n",
    "with open(submissions_filename, 'rb') as s:\n",
    "    submission = unicodecsv.DictReader(s)\n",
    "    project_submissions = list(submission)  # Replace this with your code\n",
    "    \n",
    "print(daily_engagement[0])\n",
    "print('')\n",
    "print(project_submissions[0])\n",
    "print('')\n",
    "print(enrollments[0])"
   ]
  },
  {
   "cell_type": "markdown",
   "metadata": {},
   "source": [
    "## Fixing Data Types"
   ]
  },
  {
   "cell_type": "code",
   "execution_count": 60,
   "metadata": {},
   "outputs": [],
   "source": [
    "from datetime import datetime as dt\n",
    "\n",
    "# Takes a date as a string, and returns a Python datetime object. \n",
    "# If there is no date given, returns None\n",
    "def parse_date(date):\n",
    "    if date == '':\n",
    "        return None\n",
    "    else:\n",
    "        return dt.strptime(date, '%Y-%m-%d')\n",
    "    \n",
    "# Takes a string which is either an empty string or represents an integer,\n",
    "# and returns an int or None.\n",
    "def parse_maybe_int(i):\n",
    "    if i == '':\n",
    "        return None\n",
    "    else:\n",
    "        return int(i)\n",
    "\n",
    "# Clean up the data types in the enrollments table\n",
    "for enrollment in enrollments:\n",
    "    enrollment['cancel_date'] = parse_date(enrollment['cancel_date'])\n",
    "    enrollment['days_to_cancel'] = parse_maybe_int(enrollment['days_to_cancel'])\n",
    "    enrollment['is_canceled'] = enrollment['is_canceled'] == 'True'\n",
    "    enrollment['is_udacity'] = enrollment['is_udacity'] == 'True'\n",
    "    enrollment['join_date'] = parse_date(enrollment['join_date'])\n",
    "    \n"
   ]
  },
  {
   "cell_type": "code",
   "execution_count": 61,
   "metadata": {},
   "outputs": [
    {
     "data": {
      "text/plain": [
       "{'account_key': '448',\n",
       " 'status': 'current',\n",
       " 'join_date': datetime.datetime(2015, 3, 10, 0, 0),\n",
       " 'cancel_date': None,\n",
       " 'days_to_cancel': None,\n",
       " 'is_udacity': True,\n",
       " 'is_canceled': False}"
      ]
     },
     "execution_count": 61,
     "metadata": {},
     "output_type": "execute_result"
    }
   ],
   "source": [
    "# sample\n",
    "enrollments[4]"
   ]
  },
  {
   "cell_type": "code",
   "execution_count": 62,
   "metadata": {},
   "outputs": [
    {
     "data": {
      "text/plain": [
       "{'acct': '0',\n",
       " 'utc_date': datetime.datetime(2015, 1, 9, 0, 0),\n",
       " 'num_courses_visited': 1,\n",
       " 'total_minutes_visited': 11.6793745,\n",
       " 'lessons_completed': 0,\n",
       " 'projects_completed': 0}"
      ]
     },
     "execution_count": 62,
     "metadata": {},
     "output_type": "execute_result"
    }
   ],
   "source": [
    "# Clean up the data types in the engagement table\n",
    "for engagement_record in daily_engagement:\n",
    "    engagement_record['lessons_completed'] = int(float(engagement_record['lessons_completed']))\n",
    "    engagement_record['num_courses_visited'] = int(float(engagement_record['num_courses_visited']))\n",
    "    engagement_record['projects_completed'] = int(float(engagement_record['projects_completed']))\n",
    "    engagement_record['total_minutes_visited'] = float(engagement_record['total_minutes_visited'])\n",
    "    engagement_record['utc_date'] = parse_date(engagement_record['utc_date'])\n",
    "    \n",
    "daily_engagement[0]"
   ]
  },
  {
   "cell_type": "code",
   "execution_count": 63,
   "metadata": {},
   "outputs": [
    {
     "data": {
      "text/plain": [
       "{'creation_date': datetime.datetime(2015, 1, 14, 0, 0),\n",
       " 'completion_date': datetime.datetime(2015, 1, 16, 0, 0),\n",
       " 'assigned_rating': 'UNGRADED',\n",
       " 'account_key': '256',\n",
       " 'lesson_key': '3176718735',\n",
       " 'processing_state': 'EVALUATED'}"
      ]
     },
     "execution_count": 63,
     "metadata": {},
     "output_type": "execute_result"
    }
   ],
   "source": [
    "# Clean up the data types in the submissions table\n",
    "for submission in project_submissions:\n",
    "    submission['completion_date'] = parse_date(submission['completion_date'])\n",
    "    submission['creation_date'] = parse_date(submission['creation_date'])\n",
    "\n",
    "project_submissions[0]"
   ]
  },
  {
   "cell_type": "markdown",
   "metadata": {},
   "source": [
    "## Investigating the Data"
   ]
  },
  {
   "cell_type": "code",
   "execution_count": 64,
   "metadata": {
    "scrolled": true
   },
   "outputs": [
    {
     "name": "stdout",
     "output_type": "stream",
     "text": [
      "Enrollments:  1640\n",
      "Daily Engagements:  136240\n",
      "Project Submissions:  3642\n"
     ]
    }
   ],
   "source": [
    "\n",
    "## Find the total number of rows and the number of unique students (account keys)\n",
    "print(f'Enrollments: ', len(enrollments))\n",
    "print(f'Daily Engagements: ', len(daily_engagement))\n",
    "print(f'Project Submissions: ', len(project_submissions))\n",
    "## in each table."
   ]
  },
  {
   "cell_type": "code",
   "execution_count": 65,
   "metadata": {},
   "outputs": [],
   "source": [
    "def unique_rows(file, feature):\n",
    "    len_file = len(file)\n",
    "    f = []\n",
    "    for i in range(len_file):\n",
    "        f.append(file[i][feature])\n",
    "\n",
    "    unique = set(f)\n",
    "    return len(unique)"
   ]
  },
  {
   "cell_type": "code",
   "execution_count": 66,
   "metadata": {},
   "outputs": [
    {
     "name": "stdout",
     "output_type": "stream",
     "text": [
      "1640\n",
      "1302\n",
      "136240\n",
      "1237\n",
      "3642\n",
      "743\n"
     ]
    }
   ],
   "source": [
    "# Get the unique Account keys for enrollment, daily engagement and submissions\n",
    "enrollment_num_rows = len(enrollments)           # Replace this with your code\n",
    "enrollment_num_unique_students =  unique_rows(enrollments, 'account_key') # Replace this with your code\n",
    "\n",
    "engagement_num_rows = len(daily_engagement)            # Replace this with your code\n",
    "engagement_num_unique_students = unique_rows(daily_engagement, 'acct') # Replace this with your code\n",
    "\n",
    "submission_num_rows = len(project_submissions)           # Replace this with your code\n",
    "submission_num_unique_students = unique_rows(project_submissions, 'account_key')  # Replace this with your code\n",
    "\n",
    "print(enrollment_num_rows)\n",
    "print(enrollment_num_unique_students)\n",
    "\n",
    "print(engagement_num_rows)\n",
    "print(engagement_num_unique_students)\n",
    "\n",
    "print(submission_num_rows)\n",
    "print(submission_num_unique_students)"
   ]
  },
  {
   "cell_type": "markdown",
   "metadata": {},
   "source": [
    "## Problems in the Data"
   ]
  },
  {
   "cell_type": "code",
   "execution_count": 67,
   "metadata": {},
   "outputs": [],
   "source": [
    "# Rename 'acct' key to 'account_key' like other tables\n",
    "len_engagement = len(daily_engagement)\n",
    "for i in range(len_engagement):\n",
    "    daily_engagement[i]['account_key'] = daily_engagement[i]['acct']\n",
    "    daily_engagement[i].pop('acct')"
   ]
  },
  {
   "cell_type": "code",
   "execution_count": 68,
   "metadata": {},
   "outputs": [
    {
     "data": {
      "text/plain": [
       "{'utc_date': datetime.datetime(2015, 4, 8, 0, 0),\n",
       " 'num_courses_visited': 2,\n",
       " 'total_minutes_visited': 115.690604167,\n",
       " 'lessons_completed': 2,\n",
       " 'projects_completed': 0,\n",
       " 'account_key': '0'}"
      ]
     },
     "execution_count": 68,
     "metadata": {},
     "output_type": "execute_result"
    }
   ],
   "source": [
    "daily_engagement[89]"
   ]
  },
  {
   "cell_type": "code",
   "execution_count": 69,
   "metadata": {},
   "outputs": [],
   "source": [
    "# Find unique feature e.g. daily engagement or enrollment\n",
    "def unique_rows(file, feature):\n",
    "    len_file = len(file)\n",
    "    f = []\n",
    "    for i in range(len_file):\n",
    "        f.append(file[i][feature])\n",
    "\n",
    "    unique = set(f)\n",
    "    return unique\n",
    "\n",
    "unique_engagement = unique_rows(daily_engagement, 'account_key')\n",
    "unique_enrollment = unique_rows(enrollments, 'account_key')"
   ]
  },
  {
   "cell_type": "code",
   "execution_count": 70,
   "metadata": {},
   "outputs": [
    {
     "name": "stdout",
     "output_type": "stream",
     "text": [
      "{'account_key': '1219', 'status': 'canceled', 'join_date': datetime.datetime(2014, 11, 12, 0, 0), 'cancel_date': datetime.datetime(2014, 11, 12, 0, 0), 'days_to_cancel': 0, 'is_udacity': False, 'is_canceled': True}\n"
     ]
    }
   ],
   "source": [
    "# Why do we have more student engaged than enrolled students?\n",
    "for enrollment in enrollments:\n",
    "    student = enrollment['account_key']\n",
    "    if student not in unique_engagement:\n",
    "        print(enrollment)\n",
    "        break"
   ]
  },
  {
   "cell_type": "markdown",
   "metadata": {},
   "source": [
    "## Missing Engagement Records"
   ]
  },
  {
   "cell_type": "code",
   "execution_count": 71,
   "metadata": {},
   "outputs": [
    {
     "name": "stdout",
     "output_type": "stream",
     "text": [
      "3\n"
     ]
    }
   ],
   "source": [
    "# Students missing from engagement table but stayed enrolled for more than a day\n",
    "count = 0\n",
    "for enrollment in enrollments:\n",
    "    student = enrollment['account_key']\n",
    "    \n",
    "    if (student not in unique_engagement) and (enrollment['join_date'] != enrollment['cancel_date']):\n",
    "        count += 1\n",
    "\n",
    "print(count)\n",
    "\n",
    "## Find any one student enrollments where the student is missing from the daily engagement table.\n",
    "## Output that enrollment."
   ]
  },
  {
   "cell_type": "markdown",
   "metadata": {},
   "source": [
    "## Checking for More Problem Records"
   ]
  },
  {
   "cell_type": "code",
   "execution_count": 72,
   "metadata": {},
   "outputs": [],
   "source": [
    "#####################################\n"
   ]
  },
  {
   "cell_type": "markdown",
   "metadata": {},
   "source": [
    "## Tracking Down the Remaining Problems"
   ]
  },
  {
   "cell_type": "code",
   "execution_count": 73,
   "metadata": {},
   "outputs": [
    {
     "data": {
      "text/plain": [
       "6"
      ]
     },
     "execution_count": 73,
     "metadata": {},
     "output_type": "execute_result"
    }
   ],
   "source": [
    "# Create a set of the account keys for all Udacity test accounts\n",
    "udacity_test_accounts = set()\n",
    "for enrollment in enrollments:\n",
    "    if enrollment['is_udacity']:\n",
    "        udacity_test_accounts.add(enrollment['account_key'])\n",
    "len(udacity_test_accounts)"
   ]
  },
  {
   "cell_type": "code",
   "execution_count": 139,
   "metadata": {},
   "outputs": [
    {
     "name": "stdout",
     "output_type": "stream",
     "text": [
      "Mean: 2.912562814070352\n",
      "Standard deviation: 2.22037005490701\n",
      "Minimum: 0\n",
      "Maximum: 7\n"
     ]
    }
   ],
   "source": []
  },
  {
   "cell_type": "code",
   "execution_count": 74,
   "metadata": {},
   "outputs": [],
   "source": [
    "# Given some data with an account_key field, removes any records corresponding to Udacity test accounts\n",
    "def remove_udacity_accounts(data):\n",
    "    non_udacity_data = []\n",
    "    for data_point in data:\n",
    "        if data_point['account_key'] not in udacity_test_accounts:\n",
    "            non_udacity_data.append(data_point)\n",
    "    return non_udacity_data"
   ]
  },
  {
   "cell_type": "code",
   "execution_count": 75,
   "metadata": {},
   "outputs": [
    {
     "name": "stdout",
     "output_type": "stream",
     "text": [
      "1622\n",
      "135656\n",
      "3634\n"
     ]
    }
   ],
   "source": [
    "# Remove Udacity test accounts from all three tables\n",
    "non_udacity_enrollments = remove_udacity_accounts(enrollments)\n",
    "non_udacity_engagement = remove_udacity_accounts(daily_engagement)\n",
    "non_udacity_submissions = remove_udacity_accounts(project_submissions)\n",
    "\n",
    "print(len(non_udacity_enrollments))\n",
    "print(len(non_udacity_engagement))\n",
    "print(len(non_udacity_submissions))"
   ]
  },
  {
   "cell_type": "code",
   "execution_count": 76,
   "metadata": {},
   "outputs": [
    {
     "data": {
      "text/plain": [
       "65"
      ]
     },
     "execution_count": 76,
     "metadata": {},
     "output_type": "execute_result"
    }
   ],
   "source": [
    "non_udacity_enrollments[3]['days_to_cancel']"
   ]
  },
  {
   "cell_type": "markdown",
   "metadata": {},
   "source": [
    "## Refining the Question"
   ]
  },
  {
   "cell_type": "code",
   "execution_count": 77,
   "metadata": {},
   "outputs": [
    {
     "data": {
      "text/plain": [
       "995"
      ]
     },
     "execution_count": 77,
     "metadata": {},
     "output_type": "execute_result"
    }
   ],
   "source": [
    "#####################################\n",
    "## Create a dictionary named paid_students containing all students who either\n",
    "## haven't canceled yet or who remained enrolled for more than 7 days. The keys\n",
    "## should be account keys, and the values should be the date the student enrolled.\n",
    "paid_students = {}\n",
    "\n",
    "for enrollment in non_udacity_enrollments:\n",
    "    # all students who either haven't canceled or remained enrolled for more than 7 days\n",
    "    if not enrollment['is_canceled'] or enrollment['days_to_cancel'] > 7:\n",
    "        account_key = enrollment['account_key']\n",
    "        enrollment_date = enrollment['join_date']\n",
    "        paid_students[account_key] = enrollment_date\n",
    "        \n",
    "        # Update to recent enrollment date\n",
    "        if account_key not in paid_students or enrollment_date > paid_students[account_key]:\n",
    "            paid_students[account_key] = enrollment_date\n",
    "\n",
    "len(paid_students)"
   ]
  },
  {
   "cell_type": "markdown",
   "metadata": {},
   "source": [
    "## Getting Data from First Week"
   ]
  },
  {
   "cell_type": "code",
   "execution_count": 121,
   "metadata": {},
   "outputs": [],
   "source": [
    "# Takes a student's join date and the date of a specific engagement record,\n",
    "# and returns True if that engagement record happened within one week\n",
    "# of the student joining.\n",
    "def within_one_week(join_date, engagement_date):\n",
    "    time_delta = engagement_date - join_date\n",
    "    return time_delta.days < 7 and time_delta.days >= 0"
   ]
  },
  {
   "cell_type": "code",
   "execution_count": 122,
   "metadata": {
    "scrolled": true
   },
   "outputs": [
    {
     "data": {
      "text/plain": [
       "{'account_key': '448',\n",
       " 'status': 'canceled',\n",
       " 'join_date': datetime.datetime(2014, 11, 10, 0, 0),\n",
       " 'cancel_date': datetime.datetime(2015, 1, 14, 0, 0),\n",
       " 'days_to_cancel': 65,\n",
       " 'is_udacity': True,\n",
       " 'is_canceled': True}"
      ]
     },
     "execution_count": 122,
     "metadata": {},
     "output_type": "execute_result"
    }
   ],
   "source": [
    "enrollments[0]"
   ]
  },
  {
   "cell_type": "code",
   "execution_count": 123,
   "metadata": {},
   "outputs": [
    {
     "data": {
      "text/plain": [
       "{'utc_date': datetime.datetime(2015, 1, 9, 0, 0),\n",
       " 'num_courses_visited': 1,\n",
       " 'total_minutes_visited': 11.6793745,\n",
       " 'lessons_completed': 0,\n",
       " 'projects_completed': 0,\n",
       " 'account_key': '0'}"
      ]
     },
     "execution_count": 123,
     "metadata": {},
     "output_type": "execute_result"
    }
   ],
   "source": [
    "daily_engagement[0]"
   ]
  },
  {
   "cell_type": "code",
   "execution_count": 124,
   "metadata": {},
   "outputs": [],
   "source": [
    "# Remove free trials and canceled\n",
    "\n",
    "def remove_free_trials_cancels(data):\n",
    "    new_data = []\n",
    "    for data_point in data:\n",
    "        if data_point['account_key'] in paid_students:\n",
    "            new_data.append(data_point)\n",
    "    return new_data"
   ]
  },
  {
   "cell_type": "code",
   "execution_count": 140,
   "metadata": {},
   "outputs": [
    {
     "name": "stderr",
     "output_type": "stream",
     "text": [
      "IOPub data rate exceeded.\n",
      "The notebook server will temporarily stop sending output\n",
      "to the client in order to avoid crashing it.\n",
      "To change this limit, set the config variable\n",
      "`--NotebookApp.iopub_data_rate_limit`.\n",
      "\n",
      "Current values:\n",
      "NotebookApp.iopub_data_rate_limit=1000000.0 (bytes/sec)\n",
      "NotebookApp.rate_limit_window=3.0 (secs)\n",
      "\n"
     ]
    }
   ],
   "source": [
    "# Remove free trials from enrollments, submissions and engagements\n",
    "paid_enrollments = remove_free_trials_cancels(non_udacity_enrollments)\n",
    "paid_engagement = remove_free_trials_cancels(non_udacity_engagement)\n",
    "paid_submissions = remove_free_trials_cancels(non_udacity_submissions)\n",
    "\n",
    "print(paid_enrollments)\n",
    "print(paid_engagement)\n",
    "print(paid_submissions)"
   ]
  },
  {
   "cell_type": "code",
   "execution_count": 141,
   "metadata": {},
   "outputs": [
    {
     "name": "stdout",
     "output_type": "stream",
     "text": [
      "Mean: 2.912562814070352\n",
      "Standard deviation: 2.22037005490701\n",
      "Minimum: 0\n",
      "Maximum: 7\n"
     ]
    }
   ],
   "source": [
    "######################################\n",
    "## Find the mean, standard deviation, minimum, and maximum for the number of\n",
    "## days each student visits the classroom during the first week.\n",
    "\n",
    "for engagement_record in paid_engagement:\n",
    "    if engagement_record['num_courses_visited'] > 0:\n",
    "        engagement_record['has_visited'] = 1\n",
    "    else:\n",
    "        engagement_record['has_visited'] = 0\n",
    "        \n"
   ]
  },
  {
   "cell_type": "code",
   "execution_count": 142,
   "metadata": {},
   "outputs": [
    {
     "data": {
      "text/plain": [
       "6920"
      ]
     },
     "execution_count": 142,
     "metadata": {},
     "output_type": "execute_result"
    }
   ],
   "source": [
    "## Create a list of rows from the engagement table including only rows where\n",
    "## the student is one of the paid students you just found, and the date is within\n",
    "## one week of the student's join date.\n",
    "\n",
    "paid_engagement_in_first_week = []\n",
    "\n",
    "for engagement_record in paid_engagement:\n",
    "    account_key = engagement_record['account_key']\n",
    "    join_date = paid_students[account_key]\n",
    "    engagement_record_date = engagement_record['utc_date']\n",
    "\n",
    "    if within_one_week(join_date, engagement_record_date):\n",
    "         paid_engagement_in_first_week.append(engagement_record)\n",
    "\n",
    "len(paid_engagement_in_first_week)"
   ]
  },
  {
   "cell_type": "markdown",
   "metadata": {},
   "source": [
    "## Exploring Student Engagement"
   ]
  },
  {
   "cell_type": "code",
   "execution_count": 143,
   "metadata": {},
   "outputs": [],
   "source": [
    "from collections import defaultdict\n",
    "\n",
    "# Create a dictionary of engagement grouped by student.\n",
    "# The keys are account keys, and the values are lists of engagement records.\n",
    "engagement_by_account = defaultdict(list)\n",
    "for engagement_record in paid_engagement_in_first_week:\n",
    "    account_key = engagement_record['account_key']\n",
    "    engagement_by_account[account_key].append(engagement_record)"
   ]
  },
  {
   "cell_type": "code",
   "execution_count": 144,
   "metadata": {},
   "outputs": [],
   "source": [
    "# Create a dictionary with the total minutes each student spent in the classroom during the first week.\n",
    "# The keys are account keys, and the values are numbers (total minutes)\n",
    "total_minutes_by_account = {}\n",
    "for account_key, engagement_for_student in engagement_by_account.items():\n",
    "    total_minutes = 0\n",
    "    for engagement_record in engagement_for_student:\n",
    "        total_minutes += engagement_record['total_minutes_visited']\n",
    "    total_minutes_by_account[account_key] = total_minutes"
   ]
  },
  {
   "cell_type": "code",
   "execution_count": 145,
   "metadata": {},
   "outputs": [
    {
     "data": {
      "text/plain": [
       "<function dict.values>"
      ]
     },
     "execution_count": 145,
     "metadata": {},
     "output_type": "execute_result"
    }
   ],
   "source": [
    "total_minutes_by_account.values"
   ]
  },
  {
   "cell_type": "code",
   "execution_count": 146,
   "metadata": {},
   "outputs": [
    {
     "data": {
      "text/plain": [
       "[494.88049616599994,\n",
       " 18.576384666670002,\n",
       " 0.0,\n",
       " 0.0,\n",
       " 33.3214046667,\n",
       " 329.7578566663,\n",
       " 780.4545511666701,\n",
       " 104.20388850009999,\n",
       " 989.113641833,\n",
       " 448.471384167,\n",
       " 130.12347833367,\n",
       " 0.0,\n",
       " 179.4719088333,\n",
       " 1013.3833969996999,\n",
       " 65.6221875,\n",
       " 983.375040335,\n",
       " 119.12030049999998,\n",
       " 235.49969150033,\n",
       " 155.1361575,\n",
       " 0.0,\n",
       " 447.93897783336996,\n",
       " 931.1036911666699,\n",
       " 657.2052335000001,\n",
       " 1591.3228143334,\n",
       " 943.188117167,\n",
       " 0.0,\n",
       " 430.801675833,\n",
       " 1579.12122666663,\n",
       " 766.256315667,\n",
       " 556.1906033333,\n",
       " 69.6578351667,\n",
       " 247.2755796664,\n",
       " 123.2915048333,\n",
       " 253.9870258334,\n",
       " 180.413814,\n",
       " 765.6402170004,\n",
       " 809.2138958339,\n",
       " 1378.195091668,\n",
       " 0.0,\n",
       " 1001.5888595,\n",
       " 478.21952616690004,\n",
       " 511.925391,\n",
       " 174.3070429999,\n",
       " 88.822038,\n",
       " 0.0,\n",
       " 0.0,\n",
       " 26.1189351667,\n",
       " 854.8288881656,\n",
       " 1055.6871896667,\n",
       " 0.0,\n",
       " 491.9087078335,\n",
       " 0.0,\n",
       " 3.22752383333,\n",
       " 401.97479050029995,\n",
       " 427.764673834,\n",
       " 589.6171318323301,\n",
       " 106.72208133333001,\n",
       " 91.3514995,\n",
       " 1024.109326834,\n",
       " 47.1679638333,\n",
       " 0.0,\n",
       " 496.99219366667,\n",
       " 293.383122167,\n",
       " 465.58233333400005,\n",
       " 346.5030268336,\n",
       " 422.27366000010005,\n",
       " 6.95969283333,\n",
       " 856.8375048337,\n",
       " 0.0,\n",
       " 248.8734464997,\n",
       " 310.04241416702996,\n",
       " 53.5545175,\n",
       " 704.5521115003299,\n",
       " 0.0,\n",
       " 228.935866667,\n",
       " 20.8106506667,\n",
       " 17.658779,\n",
       " 231.80801666640002,\n",
       " 0.0,\n",
       " 416.49598383333,\n",
       " 106.2245978334,\n",
       " 227.6363853331,\n",
       " 537.5285965007,\n",
       " 293.4918854997,\n",
       " 752.4780518326,\n",
       " 500.4921706667001,\n",
       " 0.0,\n",
       " 1035.306503999,\n",
       " 106.16380783330001,\n",
       " 63.79716583327,\n",
       " 114.43403466663,\n",
       " 84.9883638333,\n",
       " 611.3200641666999,\n",
       " 751.2236896667,\n",
       " 0.0,\n",
       " 45.3963998333,\n",
       " 8.46994183333,\n",
       " 525.6444536663,\n",
       " 52.239785,\n",
       " 145.70615016660003,\n",
       " 148.7306783333,\n",
       " 277.0299235,\n",
       " 1075.0625133337,\n",
       " 839.123771167,\n",
       " 312.1800340007,\n",
       " 211.82116566633,\n",
       " 171.2928940001,\n",
       " 164.27089083347,\n",
       " 1167.52455983297,\n",
       " 1214.55291799937,\n",
       " 169.159592167,\n",
       " 388.23059683327006,\n",
       " 83.7769855,\n",
       " 186.94018933324,\n",
       " 167.606683,\n",
       " 886.0703749999001,\n",
       " 129.2449371666,\n",
       " 891.8733579995999,\n",
       " 391.55201350027,\n",
       " 266.1378745,\n",
       " 285.36239183329997,\n",
       " 530.1415103337,\n",
       " 0.0,\n",
       " 51.0695815,\n",
       " 1410.5316330013002,\n",
       " 33.4956098333,\n",
       " 334.5606256663,\n",
       " 743.1407118340001,\n",
       " 101.387314333,\n",
       " 0.0,\n",
       " 0.0,\n",
       " 1196.803629999,\n",
       " 80.2133103333,\n",
       " 1017.1034851664001,\n",
       " 613.2567715002999,\n",
       " 34.1685658333,\n",
       " 696.2475044997,\n",
       " 90.3995656667,\n",
       " 86.4587005,\n",
       " 174.0351705003,\n",
       " 544.992658666,\n",
       " 505.63867666629994,\n",
       " 405.0228675003,\n",
       " 384.69492683359994,\n",
       " 893.4411686660001,\n",
       " 11.554518,\n",
       " 416.4968900006,\n",
       " 0.0,\n",
       " 56.835209,\n",
       " 414.14088366667,\n",
       " 908.4660900005999,\n",
       " 745.1146233329999,\n",
       " 179.0073273333,\n",
       " 736.9791355,\n",
       " 0.0,\n",
       " 635.5124964993,\n",
       " 8.3032715,\n",
       " 0.0,\n",
       " 0.0,\n",
       " 630.1675615003,\n",
       " 531.8882431671,\n",
       " 532.6464248333,\n",
       " 3564.7332644989997,\n",
       " 765.55279683203,\n",
       " 962.5736773336,\n",
       " 0.0,\n",
       " 0.0,\n",
       " 120.87673000033001,\n",
       " 92.5594045,\n",
       " 586.7042849994001,\n",
       " 1887.391213833,\n",
       " 589.8798286670001,\n",
       " 12.9807116667,\n",
       " 414.12743866659997,\n",
       " 2375.7954986677,\n",
       " 1051.5771371676,\n",
       " 570.776941833,\n",
       " 783.3383063341,\n",
       " 913.6758890002999,\n",
       " 195.8380553337,\n",
       " 651.9806806667,\n",
       " 310.2486779997,\n",
       " 418.01940599970004,\n",
       " 247.9964674996,\n",
       " 0.0,\n",
       " 601.3632028330001,\n",
       " 629.3766914993301,\n",
       " 6.20617616667,\n",
       " 1251.6466043334,\n",
       " 7.94751166667,\n",
       " 137.2655706667,\n",
       " 402.42499849989997,\n",
       " 121.07599299993,\n",
       " 315.44705699977,\n",
       " 1166.4244791677,\n",
       " 383.1542506668,\n",
       " 931.3076661670001,\n",
       " 809.546996001,\n",
       " 1452.709982333,\n",
       " 448.5325424996,\n",
       " 0.0,\n",
       " 219.2389440004,\n",
       " 605.7708455,\n",
       " 686.7681608344001,\n",
       " 315.34049566659996,\n",
       " 633.1473566663,\n",
       " 114.39214366666,\n",
       " 356.77551816640005,\n",
       " 4.55604183333,\n",
       " 421.2835453327,\n",
       " 593.1472776666001,\n",
       " 168.3080953333,\n",
       " 836.3458141666999,\n",
       " 30.3670653333,\n",
       " 662.64059800003,\n",
       " 58.36346116669999,\n",
       " 0.0,\n",
       " 2393.5421573319004,\n",
       " 272.6840003337,\n",
       " 346.78228750000005,\n",
       " 178.70479883369998,\n",
       " 241.8322233337,\n",
       " 151.60938049966,\n",
       " 30.647238166630004,\n",
       " 247.9695998334,\n",
       " 439.05929566669994,\n",
       " 485.78090949999995,\n",
       " 360.4108591662,\n",
       " 131.7264965,\n",
       " 197.41214399993,\n",
       " 9.75699783333,\n",
       " 1168.2526861667002,\n",
       " 197.0435864997,\n",
       " 931.3838908327,\n",
       " 0.0,\n",
       " 467.5716475007,\n",
       " 704.5008775003,\n",
       " 330.1826238337,\n",
       " 40.220247,\n",
       " 0.0,\n",
       " 288.9210591667,\n",
       " 554.59261383367,\n",
       " 46.605140666699995,\n",
       " 123.5804105,\n",
       " 669.9961104997,\n",
       " 277.3369746671,\n",
       " 183.134135333,\n",
       " 877.8003651663,\n",
       " 284.6907063333,\n",
       " 175.613687167,\n",
       " 343.35795733340007,\n",
       " 0.0,\n",
       " 600.5757328336,\n",
       " 221.72389316627002,\n",
       " 0.0,\n",
       " 39.485681500000005,\n",
       " 595.2719906673,\n",
       " 736.3565788330001,\n",
       " 638.934161833,\n",
       " 0.0,\n",
       " 42.4569508333,\n",
       " 34.2810203333,\n",
       " 110.09569266679999,\n",
       " 371.26458716729996,\n",
       " 1420.1479191659998,\n",
       " 211.5840809997,\n",
       " 314.3331800003,\n",
       " 322.475557667,\n",
       " 1020.3306876671,\n",
       " 830.83625116633,\n",
       " 1203.2224428333002,\n",
       " 70.48434450007001,\n",
       " 1435.0160603327001,\n",
       " 44.477798999970005,\n",
       " 429.03252133340004,\n",
       " 884.915487,\n",
       " 0.0,\n",
       " 143.048056833,\n",
       " 255.53718516670003,\n",
       " 0.0,\n",
       " 570.5658495,\n",
       " 269.194508,\n",
       " 302.608719833,\n",
       " 109.141489,\n",
       " 195.9300631667,\n",
       " 283.36202233326,\n",
       " 4.58531166667,\n",
       " 955.78319766497,\n",
       " 442.37721166627,\n",
       " 0.0,\n",
       " 192.665344,\n",
       " 497.8218254996,\n",
       " 405.600248833,\n",
       " 421.6092228329,\n",
       " 199.06043566667,\n",
       " 338.67828999970004,\n",
       " 213.4699951663,\n",
       " 0.0,\n",
       " 88.12990766662999,\n",
       " 669.9500983341,\n",
       " 165.37368716699999,\n",
       " 2700.4878774989998,\n",
       " 194.7560403337,\n",
       " 538.88974533303,\n",
       " 0.0,\n",
       " 4.19664316667,\n",
       " 554.8758693333999,\n",
       " 150.7999871667,\n",
       " 843.170594833,\n",
       " 59.239222,\n",
       " 888.6124170002998,\n",
       " 1341.720517667,\n",
       " 657.0126268326,\n",
       " 1735.943607166,\n",
       " 2778.3161446706704,\n",
       " 196.3044158337,\n",
       " 343.6706583329,\n",
       " 859.426280833,\n",
       " 61.42153166673,\n",
       " 0.0,\n",
       " 397.24734133329997,\n",
       " 1669.9007213329999,\n",
       " 370.8747679997,\n",
       " 1426.2515225012999,\n",
       " 355.96292199997,\n",
       " 667.7495933323299,\n",
       " 170.64120316700001,\n",
       " 187.9226685,\n",
       " 501.941580166,\n",
       " 124.52342500033,\n",
       " 129.087694,\n",
       " 0.0,\n",
       " 855.4038108340001,\n",
       " 278.6769970004,\n",
       " 0.0,\n",
       " 13.2610473333,\n",
       " 0.0,\n",
       " 392.473794834,\n",
       " 35.531418,\n",
       " 0.0,\n",
       " 83.295313,\n",
       " 614.9778563333,\n",
       " 246.61175300029998,\n",
       " 248.12435916639998,\n",
       " 713.3479524992999,\n",
       " 445.67912983302995,\n",
       " 211.3875440003,\n",
       " 107.74437683336001,\n",
       " 320.97561616674,\n",
       " 729.8468485,\n",
       " 122.07255516670001,\n",
       " 609.2861186673,\n",
       " 944.5557876659999,\n",
       " 64.7772518334,\n",
       " 105.06483083340001,\n",
       " 71.4977216667,\n",
       " 2530.5614099997,\n",
       " 677.2790736659999,\n",
       " 1053.7764165013,\n",
       " 58.3151085,\n",
       " 0.0,\n",
       " 0.0,\n",
       " 37.6347753333,\n",
       " 0.0,\n",
       " 220.21062866679998,\n",
       " 817.9997333323399,\n",
       " 42.3843405,\n",
       " 0.0,\n",
       " 4.24015233333,\n",
       " 197.066153,\n",
       " 532.5829673333,\n",
       " 30.5476253333,\n",
       " 506.55911883299996,\n",
       " 65.9101326667,\n",
       " 803.3391453328,\n",
       " 0.0,\n",
       " 391.3939735,\n",
       " 51.9296121667,\n",
       " 0.0,\n",
       " 73.6446115,\n",
       " 212.1774728337,\n",
       " 925.7537420007,\n",
       " 446.4724451667,\n",
       " 0.0,\n",
       " 0.0,\n",
       " 8.4371975,\n",
       " 131.7464566667,\n",
       " 137.9929768333,\n",
       " 0.0,\n",
       " 427.5369333332,\n",
       " 3.3318835,\n",
       " 808.5665558337,\n",
       " 2.17768916667,\n",
       " 0.0,\n",
       " 34.50448516667,\n",
       " 12.05914466667,\n",
       " 177.5920131668,\n",
       " 239.61664966700002,\n",
       " 0.0,\n",
       " 0.0,\n",
       " 604.355107166,\n",
       " 611.4195701674,\n",
       " 741.2804391669999,\n",
       " 57.2638435,\n",
       " 500.9127926667,\n",
       " 59.7725306667,\n",
       " 364.480768,\n",
       " 951.118714666,\n",
       " 0.0,\n",
       " 108.909706333,\n",
       " 578.9502861663,\n",
       " 68.0673978333,\n",
       " 0.0,\n",
       " 722.84210483367,\n",
       " 22.14904683337,\n",
       " 86.7824926667,\n",
       " 160.4262519999,\n",
       " 96.80278150000001,\n",
       " 357.275143834,\n",
       " 311.1889536663,\n",
       " 127.15142850000001,\n",
       " 0.0,\n",
       " 975.587918167,\n",
       " 0.0,\n",
       " 413.5420181666,\n",
       " 726.26075933267,\n",
       " 0.0,\n",
       " 1024.0636758326,\n",
       " 77.9742268333,\n",
       " 437.22883383330003,\n",
       " 81.51043433337,\n",
       " 696.5725646662999,\n",
       " 433.22729549969995,\n",
       " 858.37418699973,\n",
       " 39.4918656667,\n",
       " 363.94914149996,\n",
       " 847.38115366667,\n",
       " 45.9874008334,\n",
       " 1065.2951291673999,\n",
       " 184.162204667,\n",
       " 1001.813550333,\n",
       " 0.0,\n",
       " 46.3023048333,\n",
       " 90.90472849993,\n",
       " 119.916663667,\n",
       " 20.247478,\n",
       " 1096.72738949933,\n",
       " 79.9306696666,\n",
       " 36.434234,\n",
       " 514.86060716603,\n",
       " 141.19407999967,\n",
       " 438.50690233336,\n",
       " 27.37808133337,\n",
       " 547.552952834,\n",
       " 0.0,\n",
       " 943.8555468324001,\n",
       " 116.03298466660002,\n",
       " 89.6344988334,\n",
       " 749.194206334,\n",
       " 633.4301786670001,\n",
       " 503.05470083299997,\n",
       " 53.1803671667,\n",
       " 131.94636750003,\n",
       " 207.27739616670002,\n",
       " 224.91582050030001,\n",
       " 884.7240451653,\n",
       " 68.2496686666,\n",
       " 174.4431463334,\n",
       " 42.453043,\n",
       " 285.75573750030003,\n",
       " 164.161086,\n",
       " 46.6148,\n",
       " 779.5860966676,\n",
       " 4.45095966667,\n",
       " 316.43186650009994,\n",
       " 0.0,\n",
       " 599.325108667,\n",
       " 29.5289625001,\n",
       " 716.3825241659999,\n",
       " 18.786721,\n",
       " 411.84511316623,\n",
       " 188.8958254999,\n",
       " 551.1900968329701,\n",
       " 101.401498833,\n",
       " 829.9734088337,\n",
       " 32.447970500029996,\n",
       " 640.0351108333,\n",
       " 0.0,\n",
       " 586.7405209996,\n",
       " 591.1435670003,\n",
       " 414.253240333,\n",
       " 1217.1688571673,\n",
       " 448.741092333,\n",
       " 385.2513571667001,\n",
       " 367.3854126667,\n",
       " 229.2620115,\n",
       " 32.8227305,\n",
       " 504.04492916670006,\n",
       " 2.8138905,\n",
       " 388.7726185,\n",
       " 459.3740381662999,\n",
       " 75.8750386667,\n",
       " 92.3539813334,\n",
       " 736.5973803337,\n",
       " 307.0653258337,\n",
       " 143.78600349967,\n",
       " 493.53649199967003,\n",
       " 4.26499566667,\n",
       " 626.2345113327,\n",
       " 62.84829066659999,\n",
       " 265.47810483300003,\n",
       " 454.17951166700004,\n",
       " 1381.1028195004,\n",
       " 980.5763799994,\n",
       " 231.0283105,\n",
       " 109.5149769999,\n",
       " 406.0453698336,\n",
       " 303.55134400000003,\n",
       " 61.33310733329999,\n",
       " 0.0,\n",
       " 0.0,\n",
       " 670.3438828333,\n",
       " 256.4187193326,\n",
       " 514.0743979996,\n",
       " 315.94653349997,\n",
       " 1896.7540938320003,\n",
       " 594.0435458336,\n",
       " 422.6295078334,\n",
       " 455.19857933369997,\n",
       " 609.6590520007001,\n",
       " 629.7823334996999,\n",
       " 0.0,\n",
       " 30.6256575,\n",
       " 7.1116735,\n",
       " 172.5712248333,\n",
       " 440.96130916723,\n",
       " 20.879544833329998,\n",
       " 1036.951593167,\n",
       " 183.7893518334,\n",
       " 1421.7436063333,\n",
       " 307.7543378337,\n",
       " 41.7786686667,\n",
       " 305.977582833,\n",
       " 769.207330667,\n",
       " 32.0522478333,\n",
       " 18.9512853333,\n",
       " 0.0,\n",
       " 932.3012898327,\n",
       " 507.1024986672999,\n",
       " 272.16654083369997,\n",
       " 294.34356566670004,\n",
       " 187.25140866697,\n",
       " 0.0,\n",
       " 1105.2969810004001,\n",
       " 105.24544450007,\n",
       " 61.7853381666,\n",
       " 52.4319528333,\n",
       " 326.448714,\n",
       " 21.972605,\n",
       " 18.4937245,\n",
       " 518.1875990003,\n",
       " 133.319127167,\n",
       " 321.3727448333,\n",
       " 28.9028346666,\n",
       " 1477.0239483322998,\n",
       " 173.9382718334,\n",
       " 312.2213373334,\n",
       " 907.111293668,\n",
       " 924.2469394994,\n",
       " 0.0,\n",
       " 400.8135763341,\n",
       " 911.11994133237,\n",
       " 120.55847799993,\n",
       " 28.5667518333,\n",
       " 298.253430333,\n",
       " 712.1588875006701,\n",
       " 122.48917700033,\n",
       " 2.4822425,\n",
       " 762.169280667,\n",
       " 0.0,\n",
       " 535.00554450033,\n",
       " 77.7392298333,\n",
       " 9.64132116667,\n",
       " 84.6351145,\n",
       " 168.39389983367,\n",
       " 52.2673098334,\n",
       " 166.37015616696,\n",
       " 488.40353200030006,\n",
       " 0.0,\n",
       " 0.0,\n",
       " 335.5259626667,\n",
       " 311.07236283327,\n",
       " 1047.649452501,\n",
       " 399.2498304993,\n",
       " 146.89298433300002,\n",
       " 24.87366349997,\n",
       " 267.87404783297,\n",
       " 615.9597956661,\n",
       " 207.9139188337,\n",
       " 1890.9937024994,\n",
       " 218.3752333334,\n",
       " 456.3332818333,\n",
       " 547.7397464997,\n",
       " 248.29428850003,\n",
       " 73.7238143333,\n",
       " 653.1940411656001,\n",
       " 382.93037050067,\n",
       " 52.9136506667,\n",
       " 545.9623025,\n",
       " 101.1193401667,\n",
       " 108.47527400000001,\n",
       " 321.2057135,\n",
       " 432.987765666,\n",
       " 513.8126981664001,\n",
       " 1482.9020456663002,\n",
       " 557.5625511664,\n",
       " 204.02415449966998,\n",
       " 396.82058733329995,\n",
       " 230.70437450010002,\n",
       " 1026.8480728333,\n",
       " 0.0,\n",
       " 95.1225038333,\n",
       " 1047.4820013337,\n",
       " 203.3427993337,\n",
       " 374.365616,\n",
       " 394.5387589999,\n",
       " 237.7646521667,\n",
       " 84.558989,\n",
       " 1689.189059835,\n",
       " 223.73943383300002,\n",
       " 80.5941101667,\n",
       " 169.3917738333,\n",
       " 0.0,\n",
       " 416.14186616669997,\n",
       " 0.0,\n",
       " 340.70627749999994,\n",
       " 421.960349833,\n",
       " 54.8143015,\n",
       " 488.3752611667,\n",
       " 847.3979861667,\n",
       " 264.5287276666,\n",
       " 73.5741316667,\n",
       " 129.1323983333,\n",
       " 700.4743598327,\n",
       " 114.84451633329999,\n",
       " 1346.7158483327,\n",
       " 479.86306116670005,\n",
       " 736.4371648339999,\n",
       " 177.8367486667,\n",
       " 0.0,\n",
       " 0.0,\n",
       " 193.848226,\n",
       " 92.5547231666,\n",
       " 0.0,\n",
       " 138.052647,\n",
       " 144.1243173333,\n",
       " 0.0,\n",
       " 454.273163499,\n",
       " 115.15559099992998,\n",
       " 32.816891,\n",
       " 348.39415716703,\n",
       " 171.593366833,\n",
       " 16.5745846667,\n",
       " 100.0702155,\n",
       " 25.243540000000003,\n",
       " 9.61211033333,\n",
       " 18.889756499999997,\n",
       " 0.0,\n",
       " 159.93331549997,\n",
       " 16.604203,\n",
       " 0.0,\n",
       " 198.6962631669,\n",
       " 666.3290910003,\n",
       " 88.1119545,\n",
       " 56.45108966666999,\n",
       " 0.0,\n",
       " 0.0,\n",
       " 0.0,\n",
       " 1329.9598305,\n",
       " 88.0103965,\n",
       " 3.56199133333,\n",
       " 253.23675750029997,\n",
       " 139.060529,\n",
       " 307.3006509996,\n",
       " 0.0,\n",
       " 9.4907925,\n",
       " 401.81893949967,\n",
       " 29.9067615,\n",
       " 21.1284496667,\n",
       " 0.0,\n",
       " 41.7199715,\n",
       " 219.926066667,\n",
       " 0.0,\n",
       " 313.50181033333,\n",
       " 489.7736965,\n",
       " 0.0,\n",
       " 374.5761038331,\n",
       " 706.5435295006,\n",
       " 0.0,\n",
       " 324.6302378336,\n",
       " 52.1289673334,\n",
       " 30.5951761667,\n",
       " 116.628876833,\n",
       " 413.3262124997,\n",
       " 34.0330873333,\n",
       " 0.0,\n",
       " 354.6223496663,\n",
       " 0.0,\n",
       " 100.06368333333,\n",
       " 85.29257,\n",
       " 59.340783666700005,\n",
       " 135.6825435,\n",
       " 275.16640700005996,\n",
       " 0.0,\n",
       " 0.0,\n",
       " 199.31994916669998,\n",
       " 48.1974151667,\n",
       " 4.2604045,\n",
       " 0.0,\n",
       " 0.0,\n",
       " 277.8489021664,\n",
       " 176.3818004999,\n",
       " 0.0,\n",
       " 23.695871500029998,\n",
       " 0.0,\n",
       " 417.953548167,\n",
       " 1369.641421833,\n",
       " 179.5204783334,\n",
       " 146.9410850001,\n",
       " 0.0,\n",
       " 0.0,\n",
       " 397.8826263333,\n",
       " 122.87407133333,\n",
       " 0.0,\n",
       " 22.7346656667,\n",
       " 84.1050015,\n",
       " 49.937148999970006,\n",
       " 106.2993215,\n",
       " 1138.3177014993998,\n",
       " 1764.5367983344001,\n",
       " 0.0,\n",
       " 2.30081433333,\n",
       " 0.0,\n",
       " 260.47024649996,\n",
       " 27.3957285,\n",
       " 345.17664533360005,\n",
       " 129.762569,\n",
       " 51.016355999999995,\n",
       " 0.0,\n",
       " 2.38093233333,\n",
       " 21.5715365,\n",
       " 0.0,\n",
       " 29.38455616663,\n",
       " 13.587055,\n",
       " 0.0,\n",
       " 924.060058833,\n",
       " 817.60166266567,\n",
       " 32.6861011667,\n",
       " 58.5606146667,\n",
       " 214.54059633330002,\n",
       " 5.92106983333,\n",
       " 64.29995600000001,\n",
       " 92.6896001666,\n",
       " 0.0,\n",
       " 0.0,\n",
       " 260.94864483347,\n",
       " 2.54122166667,\n",
       " 53.1295885,\n",
       " 0.0,\n",
       " 0.0,\n",
       " 13.442560666670001,\n",
       " 129.3303274997,\n",
       " 30.2541315,\n",
       " 49.7470893333,\n",
       " 26.5230981667,\n",
       " 15.5930261667,\n",
       " 0.0,\n",
       " 235.39055499926997,\n",
       " 1403.366643835,\n",
       " 62.78241916663,\n",
       " 3.3880415,\n",
       " 0.0,\n",
       " 0.0,\n",
       " 22.0889656667,\n",
       " 0.0,\n",
       " 26.5587726667,\n",
       " 108.9832133333,\n",
       " 0.0,\n",
       " 63.3749175,\n",
       " 0.0,\n",
       " 72.9583085,\n",
       " 65.7383995,\n",
       " 21.086721,\n",
       " 663.5424139989,\n",
       " 156.1449683333,\n",
       " 0.0,\n",
       " 209.96127933370002,\n",
       " 125.44656916667,\n",
       " 80.6559995,\n",
       " 0.0,\n",
       " 0.0,\n",
       " 5.03956,\n",
       " 160.1049253333,\n",
       " 69.45209899999999,\n",
       " 0.0,\n",
       " 0.0,\n",
       " 2.99934966667,\n",
       " 131.70276883329998,\n",
       " 94.3237553333,\n",
       " 107.3523146666,\n",
       " 120.657056167,\n",
       " 11.9624635,\n",
       " 240.5959745003,\n",
       " 6.80688283333,\n",
       " 0.0,\n",
       " 666.393701501,\n",
       " 8.08317416667,\n",
       " 449.6269801663,\n",
       " 24.9669023333,\n",
       " 96.1137128333,\n",
       " 42.35008283337,\n",
       " 3.7103945,\n",
       " 65.0527071667,\n",
       " 3.35443916667,\n",
       " 517.8334496674,\n",
       " 0.0,\n",
       " 68.4192841666,\n",
       " 46.494977,\n",
       " 182.85550433323,\n",
       " 61.420162,\n",
       " 2.1790245,\n",
       " 106.08401216677001,\n",
       " 39.0104288333,\n",
       " 180.025886167,\n",
       " 16.2005246667,\n",
       " 8.1809285,\n",
       " 0.0,\n",
       " 0.0,\n",
       " 118.71332966671,\n",
       " 4.3800225,\n",
       " 619.9953998326,\n",
       " 38.87817050003,\n",
       " 75.87298200000001,\n",
       " 0.0,\n",
       " 18.8601366667,\n",
       " 3.50885666667,\n",
       " 218.55650866673005,\n",
       " 11.741084,\n",
       " 13.899305166700001,\n",
       " 959.9534376661,\n",
       " 0.0,\n",
       " 0.0,\n",
       " 12.9824898333,\n",
       " 45.5670335,\n",
       " 0.0,\n",
       " 37.853095,\n",
       " 84.5200338333,\n",
       " 117.195806333,\n",
       " 81.4415533333,\n",
       " 0.0,\n",
       " 71.5736406667,\n",
       " 366.5285674997,\n",
       " 0.0,\n",
       " 1768.5227493319999,\n",
       " 366.3194163334,\n",
       " 0.0,\n",
       " 29.7377383333,\n",
       " 1309.1846301673,\n",
       " 14.3826051667,\n",
       " 0.0,\n",
       " 35.81870033337,\n",
       " 0.0,\n",
       " 90.6038805,\n",
       " 152.213267167,\n",
       " 5.51051366667,\n",
       " 0.0,\n",
       " 51.1061375,\n",
       " 179.4080511666,\n",
       " 0.0,\n",
       " 53.190095,\n",
       " 0.0,\n",
       " 464.4721495011001,\n",
       " 30.0975526667,\n",
       " 269.29544283309997,\n",
       " 739.8981633335999,\n",
       " 108.8893720001,\n",
       " 0.0,\n",
       " 198.06075949963002,\n",
       " 73.6289658334,\n",
       " 52.90383883333,\n",
       " 0.0,\n",
       " 37.2096841667,\n",
       " 0.0,\n",
       " 0.0,\n",
       " 89.38367816659999,\n",
       " 20.21580533333,\n",
       " 12.6563396667,\n",
       " 0.0,\n",
       " 53.4711175,\n",
       " 137.6759001667,\n",
       " 693.148515833,\n",
       " 0.0,\n",
       " 316.78872283329997,\n",
       " 129.85920366667,\n",
       " 0.0,\n",
       " 299.9208106657,\n",
       " 0.0,\n",
       " 105.57724800007,\n",
       " 28.805244,\n",
       " 876.6454899994,\n",
       " 150.810125167,\n",
       " 113.43918199967,\n",
       " 565.6616593333,\n",
       " 0.0,\n",
       " 0.0,\n",
       " 2.70408483333,\n",
       " 87.8123571667,\n",
       " 56.4237046666,\n",
       " 870.43417899963,\n",
       " 0.0,\n",
       " 55.7923973333,\n",
       " 76.1418825,\n",
       " 2.7094835,\n",
       " 754.5790381659999,\n",
       " 43.0449731666,\n",
       " 0.0,\n",
       " 42.3039228333,\n",
       " 63.1747861666,\n",
       " 242.2558805004,\n",
       " 51.7192425,\n",
       " 200.75333083330003,\n",
       " 292.8858635,\n",
       " 168.1376205,\n",
       " 6.5907805,\n",
       " 4.71476416667,\n",
       " 696.57720983267,\n",
       " 395.022838667,\n",
       " 48.67926333336,\n",
       " 291.7782771666,\n",
       " 0.0,\n",
       " 76.7225691667,\n",
       " 26.4703245,\n",
       " 114.066953,\n",
       " 247.9447956666,\n",
       " 430.7856678337,\n",
       " 0.0,\n",
       " 0.0,\n",
       " 12.822523,\n",
       " 1360.7287001670002,\n",
       " 266.32487266671006,\n",
       " 100.837620167,\n",
       " 118.30495933329999,\n",
       " 61.0835323333,\n",
       " 0.0,\n",
       " 0.0,\n",
       " 0.0,\n",
       " 621.5755701662999,\n",
       " 172.77872349963,\n",
       " 0.0,\n",
       " 0.0,\n",
       " 62.9114363333,\n",
       " 53.5962256666,\n",
       " 79.19556549999999,\n",
       " 3.50918183333,\n",
       " 9.62371516667,\n",
       " 10.0058803333,\n",
       " 11.2880193333,\n",
       " 0.0,\n",
       " 187.32349033330001,\n",
       " 30.8061303333,\n",
       " 94.2427361666,\n",
       " 0.0,\n",
       " 0.0,\n",
       " 383.99752900006996,\n",
       " 2.01734133333,\n",
       " 0.0,\n",
       " 0.0,\n",
       " 0.0,\n",
       " 11.3308886667,\n",
       " 4.79064933333,\n",
       " 438.5049581666,\n",
       " 62.8929255,\n",
       " 49.8759065,\n",
       " 0.0,\n",
       " 134.5242838333,\n",
       " 32.4256981667,\n",
       " 8.971003166660001,\n",
       " 5.45628333333,\n",
       " 78.787234,\n",
       " 233.20550333356,\n",
       " 143.91027249997,\n",
       " 113.791118833,\n",
       " 0.0,\n",
       " 12.18271116667,\n",
       " 9.771473833329999]"
      ]
     },
     "execution_count": 146,
     "metadata": {},
     "output_type": "execute_result"
    }
   ],
   "source": [
    "list(total_minutes_by_account.values())"
   ]
  },
  {
   "cell_type": "code",
   "execution_count": 147,
   "metadata": {},
   "outputs": [
    {
     "name": "stdout",
     "output_type": "stream",
     "text": [
      "Mean: 305.4147189083705\n",
      "Standard deviation: 405.91261032004155\n",
      "Minimum: 0.0\n",
      "Maximum: 3564.7332644989997\n"
     ]
    }
   ],
   "source": [
    "import numpy as np\n",
    "\n",
    "# Summarize the data about minutes spent in the classroom\n",
    "total_minutes = np.array(list(total_minutes_by_account.values()))\n",
    "\n",
    "mean = np.mean(total_minutes)\n",
    "std = np.std(total_minutes)\n",
    "minimum = np.min(total_minutes)\n",
    "maximum = np.max(total_minutes)\n",
    "\n",
    "print('Mean:', mean)\n",
    "print('Standard deviation:', std)\n",
    "print('Minimum:', minimum)\n",
    "print('Maximum:', maximum)"
   ]
  },
  {
   "cell_type": "code",
   "execution_count": 148,
   "metadata": {},
   "outputs": [],
   "source": [
    "student_with_max_minutes = None\n",
    "max_minutes = 0\n",
    "\n",
    "for student, total_minutes in total_minutes_by_account.items():\n",
    "    if total_minutes > max_minutes:\n",
    "        max_minutes = total_minutes\n",
    "        student_with_max_minutes = student\n",
    "\n",
    "\n",
    "for engagement in paid_engagement_in_first_week:\n",
    "    if engagement_record['account_key'] == student_with_max_minutes:\n",
    "        print(engagement_record)\n",
    "    "
   ]
  },
  {
   "cell_type": "markdown",
   "metadata": {},
   "source": [
    "## Debugging Data Analysis Code"
   ]
  },
  {
   "cell_type": "code",
   "execution_count": 149,
   "metadata": {},
   "outputs": [],
   "source": [
    "#####################################\n",
    "#                 8                 #\n",
    "#####################################\n",
    "\n",
    "## Go through a similar process as before to see if there is a problem.\n",
    "## Locate at least one surprising piece of data, output it, and take a look at it.\n",
    "\n",
    "from collections import defaultdict\n",
    "\n",
    "def group_data(data, key_name):\n",
    "    grouped_data = defaultdict(list)\n",
    "    for data_point in data:\n",
    "        key = data_point[key_name]\n",
    "        grouped_data[key].append(data_point)\n",
    "    return grouped_data\n",
    "\n",
    "engagement_by_account = group_data(paid_engagement_in_first_week, 'account_key')\n",
    "\n",
    "def sum_grouped_items(grouped_data, field_name):\n",
    "    summed_data = {}\n",
    "    for key, data_points in grouped_data.items():\n",
    "        total = 0\n",
    "        for data_point in data_points:\n",
    "            total += data_point[field_name]\n",
    "        summed_data[key] = total\n",
    "    return summed_data\n",
    "\n",
    "total_minutes_by_account = sum_grouped_items(engagement_by_account, 'total_minutes_visited')"
   ]
  },
  {
   "cell_type": "code",
   "execution_count": 150,
   "metadata": {},
   "outputs": [
    {
     "name": "stdout",
     "output_type": "stream",
     "text": [
      "Mean: 305.4147189083705\n",
      "Standard deviation: 405.91261032004155\n",
      "Minimum: 0.0\n",
      "Maximum: 3564.7332644989997\n"
     ]
    }
   ],
   "source": [
    "import numpy as np\n",
    "\n",
    "def describe_data(data):\n",
    "    print('Mean:', np.mean(data))\n",
    "    print('Standard deviation:', np.std(data))\n",
    "    print('Minimum:', np.min(data))\n",
    "    print('Maximum:', np.max(data))\n",
    "\n",
    "describe_data(list(total_minutes_by_account.values()))"
   ]
  },
  {
   "cell_type": "markdown",
   "metadata": {},
   "source": [
    "## Lessons Completed in First Week"
   ]
  },
  {
   "cell_type": "code",
   "execution_count": 151,
   "metadata": {},
   "outputs": [
    {
     "name": "stdout",
     "output_type": "stream",
     "text": [
      "Mean: 1.6321608040201006\n",
      "Standard deviation: 3.0014018256251003\n",
      "Minimum: 0\n",
      "Maximum: 36\n"
     ]
    }
   ],
   "source": [
    "####################################\n",
    "## the mean, standard deviation, minimum, and maximum for\n",
    "## the number of lessons completed by each student during the first week. Try creating\n",
    "## one or more functions to re-use the code above.\n",
    "\n",
    "lessons_completed_by_account = sum_grouped_items(engagement_by_account, 'lessons_completed')\n",
    "describe_data(list(lessons_completed_by_account.values()))"
   ]
  },
  {
   "cell_type": "markdown",
   "metadata": {},
   "source": [
    "## Number of Visits in First Week"
   ]
  },
  {
   "cell_type": "code",
   "execution_count": 152,
   "metadata": {},
   "outputs": [
    {
     "name": "stdout",
     "output_type": "stream",
     "text": [
      "Mean: 2.912562814070352\n",
      "Standard deviation: 2.22037005490701\n",
      "Minimum: 0\n",
      "Maximum: 7\n"
     ]
    }
   ],
   "source": [
    "days_visited_by_account = sum_grouped_items(engagement_by_account, 'has_visited')\n",
    "describe_data(list(days_visited_by_account.values()))"
   ]
  },
  {
   "cell_type": "markdown",
   "metadata": {},
   "source": [
    "## Splitting out Passing Students"
   ]
  },
  {
   "cell_type": "code",
   "execution_count": 154,
   "metadata": {
    "scrolled": true
   },
   "outputs": [
    {
     "data": {
      "text/plain": [
       "{'creation_date': datetime.datetime(2015, 1, 14, 0, 0),\n",
       " 'completion_date': datetime.datetime(2015, 1, 16, 0, 0),\n",
       " 'assigned_rating': 'UNGRADED',\n",
       " 'account_key': '256',\n",
       " 'lesson_key': '3176718735',\n",
       " 'processing_state': 'EVALUATED'}"
      ]
     },
     "execution_count": 154,
     "metadata": {},
     "output_type": "execute_result"
    }
   ],
   "source": [
    "paid_submissions[0]"
   ]
  },
  {
   "cell_type": "code",
   "execution_count": 155,
   "metadata": {},
   "outputs": [
    {
     "data": {
      "text/plain": [
       "{'utc_date': datetime.datetime(2015, 1, 9, 0, 0),\n",
       " 'num_courses_visited': 1,\n",
       " 'total_minutes_visited': 11.6793745,\n",
       " 'lessons_completed': 0,\n",
       " 'projects_completed': 0,\n",
       " 'account_key': '0',\n",
       " 'has_visited': 1}"
      ]
     },
     "execution_count": 155,
     "metadata": {},
     "output_type": "execute_result"
    }
   ],
   "source": [
    "paid_engagement_in_first_week[0]"
   ]
  },
  {
   "cell_type": "code",
   "execution_count": 153,
   "metadata": {},
   "outputs": [
    {
     "name": "stdout",
     "output_type": "stream",
     "text": [
      "Passed Subway Project 647\n",
      "Number of Passing Engagements:  4528\n",
      "Number of Non-passing Engagements:  2392\n"
     ]
    }
   ],
   "source": [
    "######################################\n",
    "#                 11                 #\n",
    "######################################\n",
    "\n",
    "## Two lists of engagement data for paid students in the first week.\n",
    "## The first list should contain data for students who eventually pass the\n",
    "## subway project, and the second list should contain data for students\n",
    "## who do not.\n",
    "\n",
    "subway_project_lesson_keys = ['746169184', '3176718735']\n",
    "pass_subway_project = set()\n",
    "\n",
    "for submission in paid_submissions:\n",
    "    project = submission['lesson_key']\n",
    "    rating = submission['assigned_rating']    \n",
    "\n",
    "    if ((project in subway_project_lesson_keys) and (rating == 'PASSED' or rating == 'DISTINCTION')):\n",
    "        pass_subway_project.add(submission['account_key'])\n",
    "\n",
    "print(\"Passed Subway Project:\", len(pass_subway_project))\n",
    "\n",
    "passing_engagement = []\n",
    "non_passing_engagement = []\n",
    "\n",
    "for engagement_record in paid_engagement_in_first_week:\n",
    "    if engagement_record['account_key'] in pass_subway_project:\n",
    "        passing_engagement.append(engagement_record)\n",
    "    else:\n",
    "        non_passing_engagement.append(engagement_record)\n",
    "\n",
    "print(\"Number of Passing Engagements: \", len(passing_engagement))\n",
    "print(\"Number of Non-passing Engagements: \", len(non_passing_engagement))"
   ]
  },
  {
   "cell_type": "markdown",
   "metadata": {},
   "source": [
    "## Comparing the Two Student Groups"
   ]
  },
  {
   "cell_type": "code",
   "execution_count": null,
   "metadata": {},
   "outputs": [],
   "source": [
    "######################################\n",
    "#                 12                 #\n",
    "######################################\n",
    "\n",
    "## Compute some metrics you're interested in and see how they differ for\n",
    "## students who pass the subway project vs. students who don't. A good\n",
    "## starting point would be the metrics we looked at earlier (minutes spent\n",
    "## in the classroom, lessons completed, and days visited)."
   ]
  },
  {
   "cell_type": "markdown",
   "metadata": {},
   "source": [
    "## Making Histograms"
   ]
  },
  {
   "cell_type": "code",
   "execution_count": null,
   "metadata": {},
   "outputs": [],
   "source": [
    "######################################\n",
    "#                 13                 #\n",
    "######################################\n",
    "\n",
    "## Make histograms of the three metrics we looked at earlier for both\n",
    "## students who passed the subway project and students who didn't. You\n",
    "## might also want to make histograms of any other metrics you examined."
   ]
  },
  {
   "cell_type": "markdown",
   "metadata": {},
   "source": [
    "## Improving Plots and Sharing Findings"
   ]
  },
  {
   "cell_type": "code",
   "execution_count": null,
   "metadata": {},
   "outputs": [],
   "source": [
    "######################################\n",
    "#                 14                 #\n",
    "######################################\n",
    "\n",
    "## Make a more polished version of at least one of your visualizations\n",
    "## from earlier. Try importing the seaborn library to make the visualization\n",
    "## look better, adding axis labels and a title, and changing one or more\n",
    "## arguments to the hist() function."
   ]
  }
 ],
 "metadata": {
  "kernelspec": {
   "display_name": "Python 3",
   "language": "python",
   "name": "python3"
  },
  "language_info": {
   "codemirror_mode": {
    "name": "ipython",
    "version": 3
   },
   "file_extension": ".py",
   "mimetype": "text/x-python",
   "name": "python",
   "nbconvert_exporter": "python",
   "pygments_lexer": "ipython3",
   "version": "3.8.5"
  }
 },
 "nbformat": 4,
 "nbformat_minor": 1
}
